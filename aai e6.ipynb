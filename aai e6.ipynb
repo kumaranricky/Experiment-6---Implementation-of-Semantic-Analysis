{
 "cells": [
  {
   "cell_type": "code",
   "execution_count": 1,
   "id": "6dc5f238",
   "metadata": {},
   "outputs": [
    {
     "name": "stderr",
     "output_type": "stream",
     "text": [
      "[nltk_data] Downloading package wordnet to\n",
      "[nltk_data]     C:\\Users\\KUMARAN\\AppData\\Roaming\\nltk_data...\n",
      "[nltk_data]   Package wordnet is already up-to-date!\n",
      "[nltk_data] Downloading package punkt to\n",
      "[nltk_data]     C:\\Users\\KUMARAN\\AppData\\Roaming\\nltk_data...\n",
      "[nltk_data]   Unzipping tokenizers\\punkt.zip.\n",
      "[nltk_data] Downloading package averaged_perceptron_tagger to\n",
      "[nltk_data]     C:\\Users\\KUMARAN\\AppData\\Roaming\\nltk_data...\n",
      "[nltk_data]   Unzipping taggers\\averaged_perceptron_tagger.zip.\n"
     ]
    }
   ],
   "source": [
    "import nltk\n",
    "nltk.download('wordnet')\n",
    "nltk.download('punkt')\n",
    "nltk.download('averaged_perceptron_tagger')\n",
    "from nltk.tokenize import word_tokenize, sent_tokenize\n",
    "from nltk.corpus import wordnet as wn\n",
    "from nltk.tag import pos_tag\n",
    "\n",
    "\n"
   ]
  },
  {
   "cell_type": "code",
   "execution_count": 2,
   "id": "09ce3cbc",
   "metadata": {},
   "outputs": [
    {
     "name": "stdout",
     "output_type": "stream",
     "text": [
      "Verb: is\n",
      "Synonyms: cost, follow, comprise, live, exist, make_up, represent, equal, be, constitute, embody, personify\n",
      "Antonyms: differ\n",
      "\n",
      "Verb: Considered\n",
      "Synonyms: think, study, look_at, debate, conceive, view, consider, weigh, count, deal, turn_over, believe, moot, regard, deliberate, reckon, see, take\n",
      "Antonyms: No antonyms found.\n",
      "\n",
      "Verb: [\n",
      "Synonyms: \n",
      "Antonyms: No antonyms found.\n",
      "\n",
      "Verb: being\n",
      "Synonyms: cost, follow, comprise, live, exist, make_up, represent, equal, be, constitute, embody, personify\n",
      "Antonyms: differ\n",
      "\n",
      "Verb: serve\n",
      "Synonyms: wait_on, help, serve_well, assist, function, serve, dish_up, swear_out, attend, dish_out, do, attend_to, answer, process, service, dish, serve_up, suffice\n",
      "Antonyms: No antonyms found.\n",
      "\n",
      "Verb: are\n",
      "Synonyms: cost, follow, comprise, live, exist, make_up, represent, equal, be, constitute, embody, personify\n",
      "Antonyms: differ\n",
      "\n",
      "Verb: deployed\n",
      "Synonyms: deploy\n",
      "Antonyms: No antonyms found.\n",
      "\n"
     ]
    }
   ],
   "source": [
    "def read_text_file(file_path):\n",
    "    with open(file_path, 'r') as file:\n",
    "        text = file.read()\n",
    "    return text\n",
    "\n",
    "file_path = 'ias1.txt'  # Replace with the path to your text file\n",
    "text = read_text_file(file_path)\n",
    "\n",
    "def get_verbs(text):\n",
    "    tokens = word_tokenize(text)\n",
    "    tagged_tokens = pos_tag(tokens)\n",
    "    verbs = [word for word, pos in tagged_tokens if pos.startswith('VB')]\n",
    "    return verbs\n",
    "\n",
    "verbs = get_verbs(text)\n",
    "def get_synonyms_antonyms(verb):\n",
    "    synonyms = []\n",
    "    antonyms = []\n",
    "\n",
    "    for synset in wn.synsets(verb, pos=wn.VERB):\n",
    "        for lemma in synset.lemmas():\n",
    "            synonyms.append(lemma.name())\n",
    "            if lemma.antonyms():\n",
    "                antonyms.append(lemma.antonyms()[0].name())\n",
    "\n",
    "    return set(synonyms), set(antonyms)\n",
    "\n",
    "verb_synonyms_antonyms = {}\n",
    "for verb in verbs:\n",
    "    synonyms, antonyms = get_synonyms_antonyms(verb)\n",
    "    verb_synonyms_antonyms[verb] = {'synonyms': synonyms, 'antonyms': antonyms}\n",
    "\n",
    "for verb, data in verb_synonyms_antonyms.items():\n",
    "    print(f\"Verb: {verb}\")\n",
    "    print(f\"Synonyms: {', '.join(data['synonyms'])}\")\n",
    "    print(f\"Antonyms: {', '.join(data['antonyms']) if data['antonyms'] else 'No antonyms found.'}\")\n",
    "    print()\n"
   ]
  }
 ],
 "metadata": {
  "kernelspec": {
   "display_name": "Python 3",
   "language": "python",
   "name": "python3"
  },
  "language_info": {
   "codemirror_mode": {
    "name": "ipython",
    "version": 3
   },
   "file_extension": ".py",
   "mimetype": "text/x-python",
   "name": "python",
   "nbconvert_exporter": "python",
   "pygments_lexer": "ipython3",
   "version": "3.8.8"
  }
 },
 "nbformat": 4,
 "nbformat_minor": 5
}
